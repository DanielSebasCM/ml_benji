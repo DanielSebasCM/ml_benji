{
 "cells": [
  {
   "cell_type": "code",
   "execution_count": null,
   "metadata": {},
   "outputs": [],
   "source": [
    "import os\n",
    "import random"
   ]
  },
  {
   "cell_type": "code",
   "execution_count": 2,
   "metadata": {},
   "outputs": [],
   "source": [
    "BASE_DIR = os.getcwd()\n",
    "DATA_DIR = os.path.join(BASE_DIR, \"dataset\", \"animals_src\")\n",
    "TRAIN_DIR = os.path.join(BASE_DIR, \"dataset\", \"animals\", \"train\")\n",
    "TEST_DIR = os.path.join(BASE_DIR, \"dataset\", \"animals\", \"test\")"
   ]
  },
  {
   "cell_type": "code",
   "execution_count": null,
   "metadata": {},
   "outputs": [],
   "source": [
    "def merge_train_test():\n",
    "    # EXtracts the datasets from train and tests and leaves them in the data dir\n",
    "    if os.path.exists(TRAIN_DIR):\n",
    "        for class_name in os.listdir(TRAIN_DIR):\n",
    "            class_dir = os.path.join(TRAIN_DIR, class_name)\n",
    "            if os.path.isdir(class_dir):\n",
    "                for file_name in os.listdir(class_dir):\n",
    "                    src_path = os.path.join(class_dir, file_name)\n",
    "                    dst_path = os.path.join(DATA_DIR, class_name, file_name)\n",
    "                    # Create the destination directory if it doesn't exist\n",
    "                    os.makedirs(os.path.dirname(dst_path), exist_ok=True)\n",
    "                    os.rename(src_path, dst_path)\n",
    "                os.rmdir(class_dir)\n",
    "        os.rmdir(TRAIN_DIR)\n",
    "\n",
    "    if os.path.exists(TEST_DIR):\n",
    "        for class_name in os.listdir(TEST_DIR):\n",
    "            class_dir = os.path.join(TEST_DIR, class_name)\n",
    "            if os.path.isdir(class_dir):\n",
    "                for file_name in os.listdir(class_dir):\n",
    "                    src_path = os.path.join(class_dir, file_name)\n",
    "                    dst_path = os.path.join(DATA_DIR, class_name, file_name)\n",
    "                    # Create the destination directory if it doesn't exist\n",
    "                    os.makedirs(os.path.dirname(dst_path), exist_ok=True)\n",
    "                    os.rename(src_path, dst_path)\n",
    "                os.rmdir(class_dir)\n",
    "        os.rmdir(TEST_DIR)\n",
    "\n",
    "def move_files():\n",
    "    # Move files from the original dataset to the train and test directories\n",
    "    for class_name in os.listdir(DATA_DIR):\n",
    "        data_dir = os.path.join(DATA_DIR, class_name)\n",
    "        train_dir = os.path.join(TRAIN_DIR, class_name)\n",
    "        test_dir = os.path.join(TEST_DIR, class_name)\n",
    "        print(f\"Processing class: {class_name}\")\n",
    "        print(f\"Data directory: {data_dir}\")\n",
    "        print(f\"Train directory: {train_dir}\")\n",
    "        print(f\"Test directory: {test_dir}\")\n",
    "\n",
    "        if os.path.isdir(data_dir):\n",
    "            files = os.listdir(data_dir)\n",
    "            # Shuffle the files to randomize the selection\n",
    "            random.shuffle(files)\n",
    "\n",
    "            num_files = len(files)\n",
    "            num_train = int(0.8 * num_files)  # 80% for training\n",
    "            train_files = files[:num_train]\n",
    "            test_files = files[num_train:]\n",
    "\n",
    "            for file_name in train_files:\n",
    "                src_path = os.path.join(data_dir, file_name)\n",
    "                dst_path = os.path.join(train_dir, file_name)\n",
    "                # Create the destination directory if it doesn't exist\n",
    "                os.makedirs(os.path.dirname(dst_path), exist_ok=True)\n",
    "                os.rename(src_path, dst_path)\n",
    "\n",
    "            for file_name in test_files:\n",
    "                src_path = os.path.join(data_dir, file_name)\n",
    "                dst_path = os.path.join(test_dir, file_name)\n",
    "                # Create the destination directory if it doesn't exist\n",
    "                os.makedirs(os.path.dirname(dst_path), exist_ok=True)\n",
    "                os.rename(src_path, dst_path)"
   ]
  },
  {
   "cell_type": "code",
   "execution_count": 10,
   "metadata": {},
   "outputs": [
    {
     "name": "stdout",
     "output_type": "stream",
     "text": [
      "Train and test directories created and files moved.\n"
     ]
    }
   ],
   "source": [
    "if os.path.exists(TRAIN_DIR) or os.path.exists(TEST_DIR):\n",
    "    print(\"Train and test directories already exist.\")\n",
    "else:\n",
    "    move_files()\n",
    "    print(\"Train and test directories created and files moved.\")"
   ]
  },
  {
   "cell_type": "code",
   "execution_count": null,
   "metadata": {},
   "outputs": [],
   "source": []
  },
  {
   "cell_type": "code",
   "execution_count": 7,
   "metadata": {},
   "outputs": [],
   "source": [
    "merge_train_test()"
   ]
  }
 ],
 "metadata": {
  "kernelspec": {
   "display_name": ".venv",
   "language": "python",
   "name": "python3"
  },
  "language_info": {
   "codemirror_mode": {
    "name": "ipython",
    "version": 3
   },
   "file_extension": ".py",
   "mimetype": "text/x-python",
   "name": "python",
   "nbconvert_exporter": "python",
   "pygments_lexer": "ipython3",
   "version": "3.10.12"
  }
 },
 "nbformat": 4,
 "nbformat_minor": 2
}
