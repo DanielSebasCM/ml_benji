{
 "cells": [
  {
   "cell_type": "markdown",
   "id": "0a87450c",
   "metadata": {},
   "source": [
    "## Splitting the dataset into training and testing"
   ]
  },
  {
   "cell_type": "code",
   "execution_count": 2,
   "id": "752d68ac",
   "metadata": {},
   "outputs": [],
   "source": [
    "import os\n",
    "import random"
   ]
  },
  {
   "cell_type": "code",
   "execution_count": 3,
   "id": "3f71d07b",
   "metadata": {},
   "outputs": [],
   "source": [
    "DATA_DIR = os.path.join(\"datasets_src\", \"animals\")\n",
    "TRAIN_DIR = os.path.join(\"datasets\", \"animals\", \"train\")\n",
    "TEST_DIR = os.path.join(\"datasets\", \"animals\", \"test\")\n",
    "\n",
    "TRAIN_TEST_SPLIT = 0.8"
   ]
  },
  {
   "cell_type": "code",
   "execution_count": null,
   "id": "7dd30fc7",
   "metadata": {},
   "outputs": [],
   "source": [
    "# got hrough all the subfolders and noly leave 5 images per each\n",
    "for root, dirs, files in os.walk(DATA_DIR):\n",
    "    for d in dirs:\n",
    "        dir_path = os.path.join(root, d)\n",
    "        files = os.listdir(dir_path)\n",
    "        random.shuffle(files)\n",
    "        files = files[:3]\n",
    "        for f in files:\n",
    "            src = os.path.join(dir_path, f)\n",
    "            dst = os.path.join(TRAIN_DIR, d, f)\n",
    "            os.makedirs(os.path.dirname(dst), exist_ok=True)\n",
    "            os.system(f\"cp {src} {dst}\")\n",
    "\n",
    "        "
   ]
  },
  {
   "cell_type": "code",
   "execution_count": null,
   "id": "d539a428",
   "metadata": {},
   "outputs": [],
   "source": [
    "for class_name in os.listdir(DATA_DIR):\n",
    "    data_src = os.path.join(DATA_DIR, class_name)\n",
    "    train_dst = os.path.join(TRAIN_DIR, class_name)\n",
    "    test_dst = os.path.join(TEST_DIR, class_name)\n",
    "\n",
    "    if os.path.isdir(data_src):\n",
    "        files = os.listdir(data_src)\n",
    "        # Shuffle the files to randomize the selection\n",
    "        random.shuffle(files)\n",
    "\n",
    "        num_files = len(files)\n",
    "        num_train = int(TRAIN_TEST_SPLIT * num_files) \n",
    "        train_files = files[:num_train]\n",
    "        test_files = files[num_train:]\n",
    "\n",
    "        os.makedirs(os.path.dirname(train_dst), exist_ok=True)\n",
    "        for file_name in train_files:\n",
    "            src_path = os.path.join(data_src, file_name)\n",
    "            dst_path = os.path.join(train_dst, file_name)\n",
    "            os.rename(src_path, dst_path)\n",
    "\n",
    "        os.makedirs(os.path.dirname(test_dst), exist_ok=True)\n",
    "        for file_name in test_files:\n",
    "            src_path = os.path.join(data_src, file_name)\n",
    "            dst_path = os.path.join(test_dst, file_name)\n",
    "            os.rename(src_path, dst_path)"
   ]
  }
 ],
 "metadata": {
  "kernelspec": {
   "display_name": ".venv",
   "language": "python",
   "name": "python3"
  },
  "language_info": {
   "codemirror_mode": {
    "name": "ipython",
    "version": 3
   },
   "file_extension": ".py",
   "mimetype": "text/x-python",
   "name": "python",
   "nbconvert_exporter": "python",
   "pygments_lexer": "ipython3",
   "version": "3.10.12"
  }
 },
 "nbformat": 4,
 "nbformat_minor": 5
}
